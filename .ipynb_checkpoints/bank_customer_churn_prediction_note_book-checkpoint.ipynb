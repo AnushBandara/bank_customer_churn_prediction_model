{
 "cells": [
  {
   "cell_type": "markdown",
   "id": "58469a68-a2f0-4ad5-bf7a-34497cf4a899",
   "metadata": {},
   "source": [
    "https://www.kaggle.com/datasets/radheshyamkollipara/bank-customer-churn/data"
   ]
  },
  {
   "cell_type": "code",
   "execution_count": 1,
   "id": "7389b9ff-2f50-440b-98de-4c65de5a133a",
   "metadata": {},
   "outputs": [],
   "source": [
    "import pandas as pd\n",
    "import numpy as np\n",
    "import matplotlib.pyplot as plt\n",
    "\n",
    "%matplotlib inline"
   ]
  },
  {
   "cell_type": "code",
   "execution_count": null,
   "id": "c9b90662-77a0-471f-9219-67ee62ddfd06",
   "metadata": {},
   "outputs": [],
   "source": []
  }
 ],
 "metadata": {
  "kernelspec": {
   "display_name": "Python [conda env:base] *",
   "language": "python",
   "name": "conda-base-py"
  },
  "language_info": {
   "codemirror_mode": {
    "name": "ipython",
    "version": 3
   },
   "file_extension": ".py",
   "mimetype": "text/x-python",
   "name": "python",
   "nbconvert_exporter": "python",
   "pygments_lexer": "ipython3",
   "version": "3.12.7"
  }
 },
 "nbformat": 4,
 "nbformat_minor": 5
}
